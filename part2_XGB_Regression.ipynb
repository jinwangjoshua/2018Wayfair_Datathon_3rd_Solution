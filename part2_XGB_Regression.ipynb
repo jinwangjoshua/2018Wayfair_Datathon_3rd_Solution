{
 "cells": [
  {
   "cell_type": "code",
   "execution_count": 1,
   "metadata": {},
   "outputs": [],
   "source": [
    "import pandas as pd\n",
    "import datetime\n",
    "import time\n",
    "from sklearn.model_selection import train_test_split\n",
    "import lightgbm\n",
    "import xgboost\n",
    "from sklearn.metrics import explained_variance_score\n",
    "from sklearn.metrics import mean_squared_error\n",
    "import math\n",
    "import numpy as np\n",
    "from matplotlib import pyplot as plt"
   ]
  },
  {
   "cell_type": "code",
   "execution_count": 2,
   "metadata": {},
   "outputs": [
    {
     "data": {
      "text/html": [
       "<div>\n",
       "<style scoped>\n",
       "    .dataframe tbody tr th:only-of-type {\n",
       "        vertical-align: middle;\n",
       "    }\n",
       "\n",
       "    .dataframe tbody tr th {\n",
       "        vertical-align: top;\n",
       "    }\n",
       "\n",
       "    .dataframe thead th {\n",
       "        text-align: right;\n",
       "    }\n",
       "</style>\n",
       "<table border=\"1\" class=\"dataframe\">\n",
       "  <thead>\n",
       "    <tr style=\"text-align: right;\">\n",
       "      <th></th>\n",
       "      <th>website_name</th>\n",
       "      <th>product_id</th>\n",
       "      <th>product_name</th>\n",
       "      <th>category_name</th>\n",
       "      <th>description</th>\n",
       "      <th>manufacturer_name</th>\n",
       "      <th>weight</th>\n",
       "      <th>dimension_1</th>\n",
       "      <th>dimension_2</th>\n",
       "      <th>dimension_3</th>\n",
       "      <th>num_reviews</th>\n",
       "      <th>onsite_price</th>\n",
       "      <th>on_promotion</th>\n",
       "    </tr>\n",
       "  </thead>\n",
       "  <tbody>\n",
       "    <tr>\n",
       "      <th>0</th>\n",
       "      <td>Joss US</td>\n",
       "      <td>2794209975853350000</td>\n",
       "      <td>Westgate Upholstered Panel Bed</td>\n",
       "      <td>Beds</td>\n",
       "      <td>The 1882 upholstered bed is sure to appeal to ...</td>\n",
       "      <td>Pulaski Furniture</td>\n",
       "      <td>116.0</td>\n",
       "      <td>59.25</td>\n",
       "      <td>87.50</td>\n",
       "      <td>68.75</td>\n",
       "      <td>7.0</td>\n",
       "      <td>409.99</td>\n",
       "      <td>0.0</td>\n",
       "    </tr>\n",
       "    <tr>\n",
       "      <th>1</th>\n",
       "      <td>Joss US</td>\n",
       "      <td>8187816211386240000</td>\n",
       "      <td>3 Piece Leah Bowl Set</td>\n",
       "      <td>Boxes, Bins, Baskets, &amp; Buckets</td>\n",
       "      <td>Stack green apples on the breakfast bar or dis...</td>\n",
       "      <td>Three Hands Co.</td>\n",
       "      <td>30.8</td>\n",
       "      <td>23.00</td>\n",
       "      <td>28.35</td>\n",
       "      <td>14.17</td>\n",
       "      <td>0.0</td>\n",
       "      <td>89.99</td>\n",
       "      <td>1.0</td>\n",
       "    </tr>\n",
       "    <tr>\n",
       "      <th>2</th>\n",
       "      <td>Joss US</td>\n",
       "      <td>7241740433485130000</td>\n",
       "      <td>Butter Cups/Ranunculus Sunshine Bulb</td>\n",
       "      <td>Planting &amp; Seeding</td>\n",
       "      <td>Start your own backyard garden or add spring s...</td>\n",
       "      <td>Van Zyverden Inc</td>\n",
       "      <td>1.0</td>\n",
       "      <td>16.00</td>\n",
       "      <td>3.00</td>\n",
       "      <td>4.00</td>\n",
       "      <td>0.0</td>\n",
       "      <td>16.99</td>\n",
       "      <td>0.0</td>\n",
       "    </tr>\n",
       "  </tbody>\n",
       "</table>\n",
       "</div>"
      ],
      "text/plain": [
       "  website_name           product_id                          product_name  \\\n",
       "0      Joss US  2794209975853350000        Westgate Upholstered Panel Bed   \n",
       "1      Joss US  8187816211386240000                 3 Piece Leah Bowl Set   \n",
       "2      Joss US  7241740433485130000  Butter Cups/Ranunculus Sunshine Bulb   \n",
       "\n",
       "                     category_name  \\\n",
       "0                             Beds   \n",
       "1  Boxes, Bins, Baskets, & Buckets   \n",
       "2               Planting & Seeding   \n",
       "\n",
       "                                         description  manufacturer_name  \\\n",
       "0  The 1882 upholstered bed is sure to appeal to ...  Pulaski Furniture   \n",
       "1  Stack green apples on the breakfast bar or dis...    Three Hands Co.   \n",
       "2  Start your own backyard garden or add spring s...   Van Zyverden Inc   \n",
       "\n",
       "   weight  dimension_1  dimension_2  dimension_3  num_reviews  onsite_price  \\\n",
       "0   116.0        59.25        87.50        68.75          7.0        409.99   \n",
       "1    30.8        23.00        28.35        14.17          0.0         89.99   \n",
       "2     1.0        16.00         3.00         4.00          0.0         16.99   \n",
       "\n",
       "   on_promotion  \n",
       "0           0.0  \n",
       "1           1.0  \n",
       "2           0.0  "
      ]
     },
     "execution_count": 2,
     "metadata": {},
     "output_type": "execute_result"
    }
   ],
   "source": [
    "# 1. READ data\n",
    "order = pd.read_csv('./orders.csv')\n",
    "prod = pd.read_csv('./products.csv')\n",
    "\n",
    "order.head(3)\n",
    "prod.head(3)"
   ]
  },
  {
   "cell_type": "code",
   "execution_count": 3,
   "metadata": {},
   "outputs": [
    {
     "name": "stdout",
     "output_type": "stream",
     "text": [
      "len of commen product: 27163\n"
     ]
    }
   ],
   "source": [
    "# 2. Data Precessing, cleaning\n",
    "\n",
    "#2.1\n",
    "join_product = set(order['wayfair_product_id'].unique())&set(prod['product_id'].unique())\n",
    "print('len of commen product:', len(join_product))\n",
    "\n",
    "#27163 unique product is enough for model training"
   ]
  },
  {
   "cell_type": "code",
   "execution_count": 4,
   "metadata": {},
   "outputs": [],
   "source": [
    "#2.2 join data of table : products and orders\n",
    "\n",
    "new = order.merge(prod, how='inner', left_on='wayfair_product_id', \n",
    "            right_on='product_id', left_index=False)\n",
    "\n",
    "# Value: this is the Y(result) in this poredictive model\n",
    "new['value'] = new['onsite_price'] * new['quantity_ordered'] "
   ]
  },
  {
   "cell_type": "code",
   "execution_count": 5,
   "metadata": {},
   "outputs": [
    {
     "data": {
      "text/plain": [
       "Index(['order_product_id', 'order_id', 'wayfair_product_id',\n",
       "       'wayfair_website_id', 'order_date', 'order_time', 'customer_id',\n",
       "       'customer_zip', 'quantity_ordered', 'website_name', 'product_id',\n",
       "       'product_name', 'category_name', 'description', 'manufacturer_name',\n",
       "       'weight', 'dimension_1', 'dimension_2', 'dimension_3', 'num_reviews',\n",
       "       'onsite_price', 'on_promotion', 'value'],\n",
       "      dtype='object')"
      ]
     },
     "execution_count": 5,
     "metadata": {},
     "output_type": "execute_result"
    }
   ],
   "source": [
    "new.columns"
   ]
  },
  {
   "cell_type": "code",
   "execution_count": 6,
   "metadata": {},
   "outputs": [
    {
     "name": "stdout",
     "output_type": "stream",
     "text": [
      "Number of data will be using: 67300\n"
     ]
    }
   ],
   "source": [
    "#2.3 data clean\n",
    "\n",
    "#drop null zip, 36 rows is fine, \n",
    "sum(new['customer_zip'].isnull())  \n",
    "new = new[pd.notnull(new['customer_zip'])]\n",
    "\n",
    "#we delete the bad records, e.g., zipcode lenth is 1, 2, 11, etc.\n",
    "new = new[new['customer_zip'].apply(lambda x: len(str(x)) in [4, 5])]\n",
    "\n",
    "print('Number of data will be using:', new.shape[0])"
   ]
  },
  {
   "cell_type": "code",
   "execution_count": null,
   "metadata": {},
   "outputs": [],
   "source": []
  },
  {
   "cell_type": "code",
   "execution_count": 7,
   "metadata": {},
   "outputs": [],
   "source": [
    "# 2.4 feature engineering: and eda\n",
    "\n",
    "# date->day of week,\n",
    "new['order_date'] =  new['order_date'].apply(\n",
    "    lambda x: datetime.datetime.strptime(x, '%m/%d/%y').weekday())\n",
    "\n",
    "#time->categorical,\n",
    "new['order_time'] = new['order_time'].apply(\n",
    "    lambda x: int(x.split(':')[0]))\n",
    "\n",
    "# len(description)\n",
    "new['description'] = new['description'].apply(lambda x: len(x))"
   ]
  },
  {
   "cell_type": "code",
   "execution_count": 54,
   "metadata": {},
   "outputs": [
    {
     "data": {
      "text/plain": [
       "<function matplotlib.pyplot.show(*args, **kw)>"
      ]
     },
     "execution_count": 54,
     "metadata": {},
     "output_type": "execute_result"
    },
    {
     "data": {
      "image/png": "[encoded data removed]",
      "text/plain": [
       "<Figure size 720x576 with 1 Axes>"
      ]
     },
     "metadata": {},
     "output_type": "display_data"
    }
   ],
   "source": [
    "new.plot(x='order_time', y='value', kind='scatter', figsize=(10, 8))\n",
    "plt.savefig(\"3.png\", dpi = 600)\n",
    "plt.show"
   ]
  },
  {
   "cell_type": "code",
   "execution_count": 52,
   "metadata": {},
   "outputs": [
    {
     "data": {
      "text/plain": [
       "<function matplotlib.pyplot.show(*args, **kw)>"
      ]
     },
     "execution_count": 52,
     "metadata": {},
     "output_type": "execute_result"
    },
    {
     "data": {
      "image/png": "[encoded data removed]",
      "text/plain": [
       "<Figure size 720x576 with 1 Axes>"
      ]
     },
     "metadata": {},
     "output_type": "display_data"
    }
   ],
   "source": [
    "new.plot(x='order_date', y='value', kind='scatter', figsize=(10, 8))\n",
    "plt.savefig(\"1.png\", dpi = 600)\n",
    "plt.show"
   ]
  },
  {
   "cell_type": "code",
   "execution_count": 53,
   "metadata": {},
   "outputs": [
    {
     "data": {
      "text/plain": [
       "<function matplotlib.pyplot.show(*args, **kw)>"
      ]
     },
     "execution_count": 53,
     "metadata": {},
     "output_type": "execute_result"
    },
    {
     "data": {
      "image/png": "[encoded data removed]",
      "text/plain": [
       "<Figure size 720x576 with 1 Axes>"
      ]
     },
     "metadata": {},
     "output_type": "display_data"
    }
   ],
   "source": [
    "new.plot(x='description', y='value', kind='scatter', figsize=(10, 8))\n",
    "plt.savefig(\"2.png\", dpi = 600)\n",
    "plt.show"
   ]
  },
  {
   "cell_type": "code",
   "execution_count": 9,
   "metadata": {},
   "outputs": [
    {
     "name": "stdout",
     "output_type": "stream",
     "text": [
      "Categorize data, done\n"
     ]
    }
   ],
   "source": [
    "# Categorize data\n",
    "\n",
    "new[\"product_name\"].astype('category')\n",
    "new[\"category_name\"].astype('category')\n",
    "new[\"manufacturer_name\"].astype('category')\n",
    "print('Categorize data, done')"
   ]
  },
  {
   "cell_type": "code",
   "execution_count": 10,
   "metadata": {},
   "outputs": [],
   "source": [
    "#use weight ranking within item categoricay as feature\n",
    "\n",
    "weight_cat = new.groupby(by = 'category_name').mean()['weight']\n",
    "new['cat_weight'] = new['category_name'].apply(lambda x: weight_cat[x])\n",
    "new['weight'] = new['weight'] / new['cat_weight']  "
   ]
  },
  {
   "cell_type": "code",
   "execution_count": 11,
   "metadata": {},
   "outputs": [],
   "source": [
    "# introduce house price as customers' buying power\n",
    "\n",
    "#imprort data\n",
    "tax = pd.read_csv('./taxes.csv')\n",
    "\n",
    "#use 'income' to describe income\n",
    "tax['income'] = tax['agi_stub'] * tax['num_returns']\n",
    "tax_level = tax.groupby('zipcode').mean()['income']"
   ]
  },
  {
   "cell_type": "code",
   "execution_count": 46,
   "metadata": {},
   "outputs": [
    {
     "name": "stdout",
     "output_type": "stream",
     "text": [
      "done\n"
     ]
    }
   ],
   "source": [
    "# join table\n",
    "\n",
    "def ts(x):\n",
    "    try:\n",
    "        if int(x) and int(x) in tax_level.index:\n",
    "            return str(tax_level[int(x)])\n",
    "    except:\n",
    "        return None    \n",
    "\n",
    "new['salary'] = new['customer_zip'].apply(ts)\n",
    "new[\"salary\"].astype('category')\n",
    "print('done')\n",
    "\n",
    "\n",
    "# clean data: use the sale price nearby to fill the nans\n",
    "new.sort_values(by='customer_zip')\n",
    "new['salary'] = new['salary'].fillna( method='backfill')\n",
    "new['salary'] = new['salary'].apply(lambda x: int(float(x)))"
   ]
  },
  {
   "cell_type": "code",
   "execution_count": null,
   "metadata": {},
   "outputs": [],
   "source": []
  },
  {
   "cell_type": "code",
   "execution_count": null,
   "metadata": {},
   "outputs": [],
   "source": [
    "#use two digits of zipcode as geo info\n",
    "\n",
    "def zipp(x):\n",
    "    x = str(x)\n",
    "    if len(x) == 4:\n",
    "        x = '0' + str(x)\n",
    "        return x[:2]\n",
    "    return x[:2]\n",
    "\n",
    "new['state'] = new['customer_zip'].apply(zipp)\n",
    "print('done')"
   ]
  },
  {
   "cell_type": "code",
   "execution_count": null,
   "metadata": {
    "scrolled": true
   },
   "outputs": [],
   "source": []
  },
  {
   "cell_type": "code",
   "execution_count": 47,
   "metadata": {
    "code_folding": []
   },
   "outputs": [],
   "source": [
    "#regression model:\n",
    "\n",
    "features = [ 'order_date', 'order_time', 'description', 'weight',  'onsite_price',# 'state'\n",
    "             'num_reviews', 'on_promotion',  'salary']   #'salary'\n",
    "target = ['value']\n",
    "X = new[features]\n",
    "y = new[target]\n",
    "X_train, X_test, y_train, y_test =  train_test_split(X, y, test_size=0.3, random_state=42)"
   ]
  },
  {
   "cell_type": "code",
   "execution_count": 48,
   "metadata": {},
   "outputs": [],
   "source": [
    "xgb = xgboost.XGBRegressor(n_estimators=100, learning_rate=0.08, gamma=0, subsample=0.75,\n",
    "                           colsample_bytree=1, max_depth=7)\n",
    "xgb.fit(X_train,y_train)\n",
    "y_pred = xgb.predict(X_test)"
   ]
  },
  {
   "cell_type": "code",
   "execution_count": 49,
   "metadata": {},
   "outputs": [
    {
     "name": "stdout",
     "output_type": "stream",
     "text": [
      "Score: 145.62663060052705\n"
     ]
    },
    {
     "data": {
      "text/plain": [
       "array([0.07681142, 0.09531873, 0.06556188, 0.17213015, 0.28898028,\n",
       "       0.1589452 , 0.00774162, 0.13451071], dtype=float32)"
      ]
     },
     "execution_count": 49,
     "metadata": {},
     "output_type": "execute_result"
    }
   ],
   "source": [
    "testScore=math.sqrt(mean_squared_error(y_test.values,y_pred))\n",
    "print('Score:', testScore)\n",
    "xgb.feature_importances_"
   ]
  },
  {
   "cell_type": "code",
   "execution_count": null,
   "metadata": {},
   "outputs": [],
   "source": []
  },
  {
   "cell_type": "code",
   "execution_count": null,
   "metadata": {},
   "outputs": [],
   "source": []
  },
  {
   "cell_type": "code",
   "execution_count": null,
   "metadata": {
    "scrolled": false
   },
   "outputs": [],
   "source": []
  },
  {
   "cell_type": "code",
   "execution_count": null,
   "metadata": {},
   "outputs": [],
   "source": []
  },
  {
   "cell_type": "code",
   "execution_count": null,
   "metadata": {},
   "outputs": [],
   "source": []
  },
  {
   "cell_type": "code",
   "execution_count": null,
   "metadata": {},
   "outputs": [],
   "source": []
  },
  {
   "cell_type": "code",
   "execution_count": null,
   "metadata": {},
   "outputs": [],
   "source": []
  },
  {
   "cell_type": "code",
   "execution_count": null,
   "metadata": {},
   "outputs": [],
   "source": []
  },
  {
   "cell_type": "code",
   "execution_count": null,
   "metadata": {},
   "outputs": [],
   "source": []
  },
  {
   "cell_type": "code",
   "execution_count": null,
   "metadata": {},
   "outputs": [],
   "source": []
  }
 ],
 "metadata": {
  "kernelspec": {
   "display_name": "Python 3",
   "language": "python",
   "name": "python3"
  },
  "language_info": {
   "codemirror_mode": {
    "name": "ipython",
    "version": 3
   },
   "file_extension": ".py",
   "mimetype": "text/x-python",
   "name": "python",
   "nbconvert_exporter": "python",
   "pygments_lexer": "ipython3",
   "version": "3.6.6"
  },
  "toc": {
   "base_numbering": 1,
   "nav_menu": {},
   "number_sections": true,
   "sideBar": true,
   "skip_h1_title": false,
   "title_cell": "Table of Contents",
   "title_sidebar": "Contents",
   "toc_cell": false,
   "toc_position": {},
   "toc_section_display": true,
   "toc_window_display": false
  }
 },
 "nbformat": 4,
 "nbformat_minor": 2
}
